{
  "cells": [
    {
      "cell_type": "markdown",
      "metadata": {
        "id": "view-in-github",
        "colab_type": "text"
      },
      "source": [
        "<a href=\"https://colab.research.google.com/github/imranajec/Customer-Segementation-Using-RFM/blob/main/RFM.ipynb\" target=\"_parent\"><img src=\"https://colab.research.google.com/assets/colab-badge.svg\" alt=\"Open In Colab\"/></a>"
      ]
    },
    {
      "cell_type": "code",
      "execution_count": null,
      "metadata": {
        "id": "zPiqsxHYFiY9"
      },
      "outputs": [],
      "source": [
        "import pandas as pd\n",
        "import numpy as np\n",
        "import seaborn as sns\n",
        "import matplotlib.pyplot as plt\n"
      ]
    },
    {
      "cell_type": "code",
      "execution_count": null,
      "metadata": {
        "id": "-n6LVGQEFiZC",
        "outputId": "91435ff3-787d-4e3f-e1f0-046d11b49c75"
      },
      "outputs": [
        {
          "name": "stderr",
          "output_type": "stream",
          "text": [
            "C:\\Users\\heyro\\AppData\\Local\\Temp\\ipykernel_7024\\3689649195.py:1: FutureWarning: In a future version of pandas all arguments of read_csv except for the argument 'filepath_or_buffer' will be keyword-only.\n",
            "  df=pd.read_csv('Data.csv',\";\")\n",
            "C:\\Users\\heyro\\AppData\\Local\\Temp\\ipykernel_7024\\3689649195.py:1: DtypeWarning: Columns (0) have mixed types. Specify dtype option on import or set low_memory=False.\n",
            "  df=pd.read_csv('Data.csv',\";\")\n"
          ]
        },
        {
          "data": {
            "text/html": [
              "<div>\n",
              "<style scoped>\n",
              "    .dataframe tbody tr th:only-of-type {\n",
              "        vertical-align: middle;\n",
              "    }\n",
              "\n",
              "    .dataframe tbody tr th {\n",
              "        vertical-align: top;\n",
              "    }\n",
              "\n",
              "    .dataframe thead th {\n",
              "        text-align: right;\n",
              "    }\n",
              "</style>\n",
              "<table border=\"1\" class=\"dataframe\">\n",
              "  <thead>\n",
              "    <tr style=\"text-align: right;\">\n",
              "      <th></th>\n",
              "      <th>fBillNo</th>\n",
              "      <th>Itemname</th>\n",
              "      <th>Quantity</th>\n",
              "      <th>Date</th>\n",
              "      <th>Price</th>\n",
              "      <th>CustomerID</th>\n",
              "      <th>Country</th>\n",
              "    </tr>\n",
              "  </thead>\n",
              "  <tbody>\n",
              "    <tr>\n",
              "      <th>0</th>\n",
              "      <td>536365</td>\n",
              "      <td>WHITE HANGING HEART T-LIGHT HOLDER</td>\n",
              "      <td>6</td>\n",
              "      <td>01.12.2010 08:26</td>\n",
              "      <td>2,55</td>\n",
              "      <td>17850.0</td>\n",
              "      <td>United Kingdom</td>\n",
              "    </tr>\n",
              "    <tr>\n",
              "      <th>1</th>\n",
              "      <td>536365</td>\n",
              "      <td>WHITE METAL LANTERN</td>\n",
              "      <td>6</td>\n",
              "      <td>01.12.2010 08:26</td>\n",
              "      <td>3,39</td>\n",
              "      <td>17850.0</td>\n",
              "      <td>United Kingdom</td>\n",
              "    </tr>\n",
              "    <tr>\n",
              "      <th>2</th>\n",
              "      <td>536365</td>\n",
              "      <td>CREAM CUPID HEARTS COAT HANGER</td>\n",
              "      <td>8</td>\n",
              "      <td>01.12.2010 08:26</td>\n",
              "      <td>2,75</td>\n",
              "      <td>17850.0</td>\n",
              "      <td>United Kingdom</td>\n",
              "    </tr>\n",
              "    <tr>\n",
              "      <th>3</th>\n",
              "      <td>536365</td>\n",
              "      <td>KNITTED UNION FLAG HOT WATER BOTTLE</td>\n",
              "      <td>6</td>\n",
              "      <td>01.12.2010 08:26</td>\n",
              "      <td>3,39</td>\n",
              "      <td>17850.0</td>\n",
              "      <td>United Kingdom</td>\n",
              "    </tr>\n",
              "    <tr>\n",
              "      <th>4</th>\n",
              "      <td>536365</td>\n",
              "      <td>RED WOOLLY HOTTIE WHITE HEART.</td>\n",
              "      <td>6</td>\n",
              "      <td>01.12.2010 08:26</td>\n",
              "      <td>3,39</td>\n",
              "      <td>17850.0</td>\n",
              "      <td>United Kingdom</td>\n",
              "    </tr>\n",
              "    <tr>\n",
              "      <th>...</th>\n",
              "      <td>...</td>\n",
              "      <td>...</td>\n",
              "      <td>...</td>\n",
              "      <td>...</td>\n",
              "      <td>...</td>\n",
              "      <td>...</td>\n",
              "      <td>...</td>\n",
              "    </tr>\n",
              "    <tr>\n",
              "      <th>522059</th>\n",
              "      <td>581587</td>\n",
              "      <td>PACK OF 20 SPACEBOY NAPKINS</td>\n",
              "      <td>12</td>\n",
              "      <td>09.12.2011 12:50</td>\n",
              "      <td>0,85</td>\n",
              "      <td>12680.0</td>\n",
              "      <td>France</td>\n",
              "    </tr>\n",
              "    <tr>\n",
              "      <th>522060</th>\n",
              "      <td>581587</td>\n",
              "      <td>CHILDREN'S APRON DOLLY GIRL</td>\n",
              "      <td>6</td>\n",
              "      <td>09.12.2011 12:50</td>\n",
              "      <td>2,1</td>\n",
              "      <td>12680.0</td>\n",
              "      <td>France</td>\n",
              "    </tr>\n",
              "    <tr>\n",
              "      <th>522061</th>\n",
              "      <td>581587</td>\n",
              "      <td>CHILDRENS CUTLERY DOLLY GIRL</td>\n",
              "      <td>4</td>\n",
              "      <td>09.12.2011 12:50</td>\n",
              "      <td>4,15</td>\n",
              "      <td>12680.0</td>\n",
              "      <td>France</td>\n",
              "    </tr>\n",
              "    <tr>\n",
              "      <th>522062</th>\n",
              "      <td>581587</td>\n",
              "      <td>CHILDRENS CUTLERY CIRCUS PARADE</td>\n",
              "      <td>4</td>\n",
              "      <td>09.12.2011 12:50</td>\n",
              "      <td>4,15</td>\n",
              "      <td>12680.0</td>\n",
              "      <td>France</td>\n",
              "    </tr>\n",
              "    <tr>\n",
              "      <th>522063</th>\n",
              "      <td>581587</td>\n",
              "      <td>BAKING SET 9 PIECE RETROSPOT</td>\n",
              "      <td>3</td>\n",
              "      <td>09.12.2011 12:50</td>\n",
              "      <td>4,95</td>\n",
              "      <td>12680.0</td>\n",
              "      <td>France</td>\n",
              "    </tr>\n",
              "  </tbody>\n",
              "</table>\n",
              "<p>522064 rows × 7 columns</p>\n",
              "</div>"
            ],
            "text/plain": [
              "       fBillNo                             Itemname  Quantity  \\\n",
              "0       536365   WHITE HANGING HEART T-LIGHT HOLDER         6   \n",
              "1       536365                  WHITE METAL LANTERN         6   \n",
              "2       536365       CREAM CUPID HEARTS COAT HANGER         8   \n",
              "3       536365  KNITTED UNION FLAG HOT WATER BOTTLE         6   \n",
              "4       536365       RED WOOLLY HOTTIE WHITE HEART.         6   \n",
              "...        ...                                  ...       ...   \n",
              "522059  581587          PACK OF 20 SPACEBOY NAPKINS        12   \n",
              "522060  581587          CHILDREN'S APRON DOLLY GIRL         6   \n",
              "522061  581587         CHILDRENS CUTLERY DOLLY GIRL         4   \n",
              "522062  581587      CHILDRENS CUTLERY CIRCUS PARADE         4   \n",
              "522063  581587         BAKING SET 9 PIECE RETROSPOT         3   \n",
              "\n",
              "                    Date Price  CustomerID         Country  \n",
              "0       01.12.2010 08:26  2,55     17850.0  United Kingdom  \n",
              "1       01.12.2010 08:26  3,39     17850.0  United Kingdom  \n",
              "2       01.12.2010 08:26  2,75     17850.0  United Kingdom  \n",
              "3       01.12.2010 08:26  3,39     17850.0  United Kingdom  \n",
              "4       01.12.2010 08:26  3,39     17850.0  United Kingdom  \n",
              "...                  ...   ...         ...             ...  \n",
              "522059  09.12.2011 12:50  0,85     12680.0          France  \n",
              "522060  09.12.2011 12:50   2,1     12680.0          France  \n",
              "522061  09.12.2011 12:50  4,15     12680.0          France  \n",
              "522062  09.12.2011 12:50  4,15     12680.0          France  \n",
              "522063  09.12.2011 12:50  4,95     12680.0          France  \n",
              "\n",
              "[522064 rows x 7 columns]"
            ]
          },
          "execution_count": 110,
          "metadata": {},
          "output_type": "execute_result"
        }
      ],
      "source": [
        "df=pd.read_csv('Data.csv',\";\")\n",
        "df"
      ]
    },
    {
      "cell_type": "code",
      "execution_count": null,
      "metadata": {
        "id": "X8HPAQd0FiZD",
        "outputId": "31903a1b-dc40-4dd3-cbc1-95dfd5eb4496"
      },
      "outputs": [
        {
          "data": {
            "text/plain": [
              "United Kingdom          487622\n",
              "Germany                   9042\n",
              "France                    8408\n",
              "Spain                     2485\n",
              "Netherlands               2363\n",
              "Belgium                   2031\n",
              "Switzerland               1967\n",
              "Portugal                  1501\n",
              "Australia                 1185\n",
              "Norway                    1072\n",
              "Italy                      758\n",
              "Sweden                     451\n",
              "Unspecified                446\n",
              "Austria                    398\n",
              "Poland                     330\n",
              "Japan                      321\n",
              "Israel                     295\n",
              "Hong Kong                  284\n",
              "Singapore                  222\n",
              "Iceland                    182\n",
              "USA                        179\n",
              "Greece                     145\n",
              "Malta                      112\n",
              "United Arab Emirates        68\n",
              "RSA                         58\n",
              "Lebanon                     45\n",
              "Lithuania                   35\n",
              "Brazil                      32\n",
              "Bahrain                     18\n",
              "Saudi Arabia                 9\n",
              "Name: Country, dtype: int64"
            ]
          },
          "execution_count": 111,
          "metadata": {},
          "output_type": "execute_result"
        }
      ],
      "source": [
        "df[\"Country\"].value_counts()"
      ]
    },
    {
      "cell_type": "code",
      "execution_count": null,
      "metadata": {
        "id": "dxr6JaiHFiZE",
        "outputId": "af849daf-153b-45bd-910d-6f3a94ff331e"
      },
      "outputs": [
        {
          "data": {
            "text/plain": [
              "fBillNo        object\n",
              "Itemname       object\n",
              "Quantity        int64\n",
              "Date           object\n",
              "Price          object\n",
              "CustomerID    float64\n",
              "Country        object\n",
              "dtype: object"
            ]
          },
          "execution_count": 112,
          "metadata": {},
          "output_type": "execute_result"
        }
      ],
      "source": [
        "df.dtypes"
      ]
    },
    {
      "cell_type": "code",
      "execution_count": null,
      "metadata": {
        "id": "8kHJBYoGFiZF"
      },
      "outputs": [],
      "source": [
        "df['Price']=df['Price'].str.replace(\",\",\".\")\n",
        "df['Price']=df['Price'].astype(\"float64\")"
      ]
    },
    {
      "cell_type": "code",
      "execution_count": null,
      "metadata": {
        "id": "0zdh6dkwFiZF",
        "outputId": "4646d7cb-a36b-4bb5-d40b-7b308f31b60b"
      },
      "outputs": [
        {
          "data": {
            "text/html": [
              "<div>\n",
              "<style scoped>\n",
              "    .dataframe tbody tr th:only-of-type {\n",
              "        vertical-align: middle;\n",
              "    }\n",
              "\n",
              "    .dataframe tbody tr th {\n",
              "        vertical-align: top;\n",
              "    }\n",
              "\n",
              "    .dataframe thead th {\n",
              "        text-align: right;\n",
              "    }\n",
              "</style>\n",
              "<table border=\"1\" class=\"dataframe\">\n",
              "  <thead>\n",
              "    <tr style=\"text-align: right;\">\n",
              "      <th></th>\n",
              "      <th>fBillNo</th>\n",
              "      <th>Itemname</th>\n",
              "      <th>Quantity</th>\n",
              "      <th>Date</th>\n",
              "      <th>Price</th>\n",
              "      <th>CustomerID</th>\n",
              "      <th>Country</th>\n",
              "    </tr>\n",
              "  </thead>\n",
              "  <tbody>\n",
              "    <tr>\n",
              "      <th>522059</th>\n",
              "      <td>581587</td>\n",
              "      <td>PACK OF 20 SPACEBOY NAPKINS</td>\n",
              "      <td>12</td>\n",
              "      <td>09.12.2011 12:50</td>\n",
              "      <td>0.85</td>\n",
              "      <td>12680.0</td>\n",
              "      <td>France</td>\n",
              "    </tr>\n",
              "    <tr>\n",
              "      <th>522060</th>\n",
              "      <td>581587</td>\n",
              "      <td>CHILDREN'S APRON DOLLY GIRL</td>\n",
              "      <td>6</td>\n",
              "      <td>09.12.2011 12:50</td>\n",
              "      <td>2.10</td>\n",
              "      <td>12680.0</td>\n",
              "      <td>France</td>\n",
              "    </tr>\n",
              "    <tr>\n",
              "      <th>522061</th>\n",
              "      <td>581587</td>\n",
              "      <td>CHILDRENS CUTLERY DOLLY GIRL</td>\n",
              "      <td>4</td>\n",
              "      <td>09.12.2011 12:50</td>\n",
              "      <td>4.15</td>\n",
              "      <td>12680.0</td>\n",
              "      <td>France</td>\n",
              "    </tr>\n",
              "    <tr>\n",
              "      <th>522062</th>\n",
              "      <td>581587</td>\n",
              "      <td>CHILDRENS CUTLERY CIRCUS PARADE</td>\n",
              "      <td>4</td>\n",
              "      <td>09.12.2011 12:50</td>\n",
              "      <td>4.15</td>\n",
              "      <td>12680.0</td>\n",
              "      <td>France</td>\n",
              "    </tr>\n",
              "    <tr>\n",
              "      <th>522063</th>\n",
              "      <td>581587</td>\n",
              "      <td>BAKING SET 9 PIECE RETROSPOT</td>\n",
              "      <td>3</td>\n",
              "      <td>09.12.2011 12:50</td>\n",
              "      <td>4.95</td>\n",
              "      <td>12680.0</td>\n",
              "      <td>France</td>\n",
              "    </tr>\n",
              "  </tbody>\n",
              "</table>\n",
              "</div>"
            ],
            "text/plain": [
              "       fBillNo                         Itemname  Quantity              Date  \\\n",
              "522059  581587      PACK OF 20 SPACEBOY NAPKINS        12  09.12.2011 12:50   \n",
              "522060  581587      CHILDREN'S APRON DOLLY GIRL         6  09.12.2011 12:50   \n",
              "522061  581587     CHILDRENS CUTLERY DOLLY GIRL         4  09.12.2011 12:50   \n",
              "522062  581587  CHILDRENS CUTLERY CIRCUS PARADE         4  09.12.2011 12:50   \n",
              "522063  581587     BAKING SET 9 PIECE RETROSPOT         3  09.12.2011 12:50   \n",
              "\n",
              "        Price  CustomerID Country  \n",
              "522059   0.85     12680.0  France  \n",
              "522060   2.10     12680.0  France  \n",
              "522061   4.15     12680.0  France  \n",
              "522062   4.15     12680.0  France  \n",
              "522063   4.95     12680.0  France  "
            ]
          },
          "execution_count": 114,
          "metadata": {},
          "output_type": "execute_result"
        }
      ],
      "source": [
        "df.tail(5)"
      ]
    },
    {
      "cell_type": "code",
      "execution_count": null,
      "metadata": {
        "id": "ZRRqLE1NFiZF"
      },
      "outputs": [],
      "source": [
        "#understanding/findin out each customers rec , freq and monetary values\n",
        "\n",
        "\n",
        "\n",
        "#recenccy\n",
        "\n",
        "day=\"2012-01-01\"\n",
        "day=pd.to_datetime(day)\n",
        "df['Date']=pd.to_datetime(df[\"Date\"])\n",
        "\n",
        "\n",
        "\n",
        "recency=df.groupby([\"CustomerID\"]).agg({\"Date\":lambda x:((day-x.max()).days)})\n"
      ]
    },
    {
      "cell_type": "code",
      "execution_count": null,
      "metadata": {
        "id": "skH_-yEZFiZG",
        "outputId": "a21653f4-2354-414c-e310-f97b324ef390"
      },
      "outputs": [
        {
          "data": {
            "text/html": [
              "<div>\n",
              "<style scoped>\n",
              "    .dataframe tbody tr th:only-of-type {\n",
              "        vertical-align: middle;\n",
              "    }\n",
              "\n",
              "    .dataframe tbody tr th {\n",
              "        vertical-align: top;\n",
              "    }\n",
              "\n",
              "    .dataframe thead th {\n",
              "        text-align: right;\n",
              "    }\n",
              "</style>\n",
              "<table border=\"1\" class=\"dataframe\">\n",
              "  <thead>\n",
              "    <tr style=\"text-align: right;\">\n",
              "      <th></th>\n",
              "      <th>Date</th>\n",
              "    </tr>\n",
              "    <tr>\n",
              "      <th>CustomerID</th>\n",
              "      <th></th>\n",
              "    </tr>\n",
              "  </thead>\n",
              "  <tbody>\n",
              "    <tr>\n",
              "      <th>12346.0</th>\n",
              "      <td>347</td>\n",
              "    </tr>\n",
              "    <tr>\n",
              "      <th>12347.0</th>\n",
              "      <td>61</td>\n",
              "    </tr>\n",
              "    <tr>\n",
              "      <th>12349.0</th>\n",
              "      <td>40</td>\n",
              "    </tr>\n",
              "    <tr>\n",
              "      <th>12350.0</th>\n",
              "      <td>332</td>\n",
              "    </tr>\n",
              "    <tr>\n",
              "      <th>12352.0</th>\n",
              "      <td>94</td>\n",
              "    </tr>\n",
              "    <tr>\n",
              "      <th>12353.0</th>\n",
              "      <td>226</td>\n",
              "    </tr>\n",
              "    <tr>\n",
              "      <th>12354.0</th>\n",
              "      <td>254</td>\n",
              "    </tr>\n",
              "    <tr>\n",
              "      <th>12355.0</th>\n",
              "      <td>117</td>\n",
              "    </tr>\n",
              "    <tr>\n",
              "      <th>12356.0</th>\n",
              "      <td>44</td>\n",
              "    </tr>\n",
              "    <tr>\n",
              "      <th>12357.0</th>\n",
              "      <td>203</td>\n",
              "    </tr>\n",
              "  </tbody>\n",
              "</table>\n",
              "</div>"
            ],
            "text/plain": [
              "            Date\n",
              "CustomerID      \n",
              "12346.0      347\n",
              "12347.0       61\n",
              "12349.0       40\n",
              "12350.0      332\n",
              "12352.0       94\n",
              "12353.0      226\n",
              "12354.0      254\n",
              "12355.0      117\n",
              "12356.0       44\n",
              "12357.0      203"
            ]
          },
          "execution_count": 116,
          "metadata": {},
          "output_type": "execute_result"
        }
      ],
      "source": [
        "recency.head(10)"
      ]
    },
    {
      "cell_type": "code",
      "execution_count": null,
      "metadata": {
        "id": "e9cmOBjUFiZH",
        "outputId": "323b64c1-69a8-4def-adc9-e7d786b631bf"
      },
      "outputs": [
        {
          "data": {
            "text/html": [
              "<div>\n",
              "<style scoped>\n",
              "    .dataframe tbody tr th:only-of-type {\n",
              "        vertical-align: middle;\n",
              "    }\n",
              "\n",
              "    .dataframe tbody tr th {\n",
              "        vertical-align: top;\n",
              "    }\n",
              "\n",
              "    .dataframe thead th {\n",
              "        text-align: right;\n",
              "    }\n",
              "</style>\n",
              "<table border=\"1\" class=\"dataframe\">\n",
              "  <thead>\n",
              "    <tr style=\"text-align: right;\">\n",
              "      <th></th>\n",
              "      <th>fBillNo</th>\n",
              "    </tr>\n",
              "    <tr>\n",
              "      <th>CustomerID</th>\n",
              "      <th></th>\n",
              "    </tr>\n",
              "  </thead>\n",
              "  <tbody>\n",
              "    <tr>\n",
              "      <th>12346.0</th>\n",
              "      <td>1</td>\n",
              "    </tr>\n",
              "    <tr>\n",
              "      <th>12347.0</th>\n",
              "      <td>7</td>\n",
              "    </tr>\n",
              "    <tr>\n",
              "      <th>12349.0</th>\n",
              "      <td>1</td>\n",
              "    </tr>\n",
              "    <tr>\n",
              "      <th>12350.0</th>\n",
              "      <td>1</td>\n",
              "    </tr>\n",
              "    <tr>\n",
              "      <th>12352.0</th>\n",
              "      <td>8</td>\n",
              "    </tr>\n",
              "  </tbody>\n",
              "</table>\n",
              "</div>"
            ],
            "text/plain": [
              "            fBillNo\n",
              "CustomerID         \n",
              "12346.0           1\n",
              "12347.0           7\n",
              "12349.0           1\n",
              "12350.0           1\n",
              "12352.0           8"
            ]
          },
          "execution_count": 117,
          "metadata": {},
          "output_type": "execute_result"
        }
      ],
      "source": [
        "#frequency\n",
        "\n",
        "\n",
        "freq=df.drop_duplicates(subset=\"fBillNo\").groupby([\"CustomerID\"])[[\"fBillNo\"]].count()\n",
        "freq.head(5)"
      ]
    },
    {
      "cell_type": "code",
      "execution_count": null,
      "metadata": {
        "id": "8OOL7vkhFiZH"
      },
      "outputs": [],
      "source": [
        "#monetary\n",
        "\n",
        "\n",
        "\n",
        "df[\"total\"]=df[\"Quantity\"]*df[\"Price\"]"
      ]
    },
    {
      "cell_type": "code",
      "execution_count": null,
      "metadata": {
        "id": "tJ4TRQ6UFiZI",
        "outputId": "cec1b4be-c691-4faa-9636-22b17c2b589c"
      },
      "outputs": [
        {
          "data": {
            "text/html": [
              "<div>\n",
              "<style scoped>\n",
              "    .dataframe tbody tr th:only-of-type {\n",
              "        vertical-align: middle;\n",
              "    }\n",
              "\n",
              "    .dataframe tbody tr th {\n",
              "        vertical-align: top;\n",
              "    }\n",
              "\n",
              "    .dataframe thead th {\n",
              "        text-align: right;\n",
              "    }\n",
              "</style>\n",
              "<table border=\"1\" class=\"dataframe\">\n",
              "  <thead>\n",
              "    <tr style=\"text-align: right;\">\n",
              "      <th></th>\n",
              "      <th>total</th>\n",
              "    </tr>\n",
              "    <tr>\n",
              "      <th>CustomerID</th>\n",
              "      <th></th>\n",
              "    </tr>\n",
              "  </thead>\n",
              "  <tbody>\n",
              "    <tr>\n",
              "      <th>12346.0</th>\n",
              "      <td>77183.60</td>\n",
              "    </tr>\n",
              "    <tr>\n",
              "      <th>12347.0</th>\n",
              "      <td>4310.00</td>\n",
              "    </tr>\n",
              "    <tr>\n",
              "      <th>12349.0</th>\n",
              "      <td>1757.55</td>\n",
              "    </tr>\n",
              "    <tr>\n",
              "      <th>12350.0</th>\n",
              "      <td>334.40</td>\n",
              "    </tr>\n",
              "    <tr>\n",
              "      <th>12352.0</th>\n",
              "      <td>2506.04</td>\n",
              "    </tr>\n",
              "    <tr>\n",
              "      <th>...</th>\n",
              "      <td>...</td>\n",
              "    </tr>\n",
              "    <tr>\n",
              "      <th>18280.0</th>\n",
              "      <td>180.60</td>\n",
              "    </tr>\n",
              "    <tr>\n",
              "      <th>18281.0</th>\n",
              "      <td>80.82</td>\n",
              "    </tr>\n",
              "    <tr>\n",
              "      <th>18282.0</th>\n",
              "      <td>178.05</td>\n",
              "    </tr>\n",
              "    <tr>\n",
              "      <th>18283.0</th>\n",
              "      <td>2094.88</td>\n",
              "    </tr>\n",
              "    <tr>\n",
              "      <th>18287.0</th>\n",
              "      <td>1837.28</td>\n",
              "    </tr>\n",
              "  </tbody>\n",
              "</table>\n",
              "<p>4297 rows × 1 columns</p>\n",
              "</div>"
            ],
            "text/plain": [
              "               total\n",
              "CustomerID          \n",
              "12346.0     77183.60\n",
              "12347.0      4310.00\n",
              "12349.0      1757.55\n",
              "12350.0       334.40\n",
              "12352.0      2506.04\n",
              "...              ...\n",
              "18280.0       180.60\n",
              "18281.0        80.82\n",
              "18282.0       178.05\n",
              "18283.0      2094.88\n",
              "18287.0      1837.28\n",
              "\n",
              "[4297 rows x 1 columns]"
            ]
          },
          "execution_count": 119,
          "metadata": {},
          "output_type": "execute_result"
        }
      ],
      "source": [
        "money=df.groupby([\"CustomerID\"])[[\"total\"]].sum()\n",
        "money"
      ]
    },
    {
      "cell_type": "code",
      "execution_count": null,
      "metadata": {
        "id": "mKl7snu8FiZI",
        "outputId": "baec8f87-89ae-419b-df4b-0be836a8297c"
      },
      "outputs": [
        {
          "data": {
            "text/html": [
              "<div>\n",
              "<style scoped>\n",
              "    .dataframe tbody tr th:only-of-type {\n",
              "        vertical-align: middle;\n",
              "    }\n",
              "\n",
              "    .dataframe tbody tr th {\n",
              "        vertical-align: top;\n",
              "    }\n",
              "\n",
              "    .dataframe thead th {\n",
              "        text-align: right;\n",
              "    }\n",
              "</style>\n",
              "<table border=\"1\" class=\"dataframe\">\n",
              "  <thead>\n",
              "    <tr style=\"text-align: right;\">\n",
              "      <th></th>\n",
              "      <th>Recency</th>\n",
              "      <th>Frequency</th>\n",
              "      <th>Monetary</th>\n",
              "    </tr>\n",
              "    <tr>\n",
              "      <th>CustomerID</th>\n",
              "      <th></th>\n",
              "      <th></th>\n",
              "      <th></th>\n",
              "    </tr>\n",
              "  </thead>\n",
              "  <tbody>\n",
              "    <tr>\n",
              "      <th>12346.0</th>\n",
              "      <td>347</td>\n",
              "      <td>1</td>\n",
              "      <td>77183.60</td>\n",
              "    </tr>\n",
              "    <tr>\n",
              "      <th>12347.0</th>\n",
              "      <td>61</td>\n",
              "      <td>7</td>\n",
              "      <td>4310.00</td>\n",
              "    </tr>\n",
              "    <tr>\n",
              "      <th>12349.0</th>\n",
              "      <td>40</td>\n",
              "      <td>1</td>\n",
              "      <td>1757.55</td>\n",
              "    </tr>\n",
              "    <tr>\n",
              "      <th>12350.0</th>\n",
              "      <td>332</td>\n",
              "      <td>1</td>\n",
              "      <td>334.40</td>\n",
              "    </tr>\n",
              "    <tr>\n",
              "      <th>12352.0</th>\n",
              "      <td>94</td>\n",
              "      <td>8</td>\n",
              "      <td>2506.04</td>\n",
              "    </tr>\n",
              "    <tr>\n",
              "      <th>...</th>\n",
              "      <td>...</td>\n",
              "      <td>...</td>\n",
              "      <td>...</td>\n",
              "    </tr>\n",
              "    <tr>\n",
              "      <th>18280.0</th>\n",
              "      <td>181</td>\n",
              "      <td>1</td>\n",
              "      <td>180.60</td>\n",
              "    </tr>\n",
              "    <tr>\n",
              "      <th>18281.0</th>\n",
              "      <td>25</td>\n",
              "      <td>1</td>\n",
              "      <td>80.82</td>\n",
              "    </tr>\n",
              "    <tr>\n",
              "      <th>18282.0</th>\n",
              "      <td>237</td>\n",
              "      <td>2</td>\n",
              "      <td>178.05</td>\n",
              "    </tr>\n",
              "    <tr>\n",
              "      <th>18283.0</th>\n",
              "      <td>31</td>\n",
              "      <td>16</td>\n",
              "      <td>2094.88</td>\n",
              "    </tr>\n",
              "    <tr>\n",
              "      <th>18287.0</th>\n",
              "      <td>21</td>\n",
              "      <td>3</td>\n",
              "      <td>1837.28</td>\n",
              "    </tr>\n",
              "  </tbody>\n",
              "</table>\n",
              "<p>4297 rows × 3 columns</p>\n",
              "</div>"
            ],
            "text/plain": [
              "            Recency  Frequency  Monetary\n",
              "CustomerID                              \n",
              "12346.0         347          1  77183.60\n",
              "12347.0          61          7   4310.00\n",
              "12349.0          40          1   1757.55\n",
              "12350.0         332          1    334.40\n",
              "12352.0          94          8   2506.04\n",
              "...             ...        ...       ...\n",
              "18280.0         181          1    180.60\n",
              "18281.0          25          1     80.82\n",
              "18282.0         237          2    178.05\n",
              "18283.0          31         16   2094.88\n",
              "18287.0          21          3   1837.28\n",
              "\n",
              "[4297 rows x 3 columns]"
            ]
          },
          "execution_count": 121,
          "metadata": {},
          "output_type": "execute_result"
        }
      ],
      "source": [
        "RFM=pd.concat([recency,freq,money], axis=1)\n",
        "recency.columns=[\"Recency\"]\n",
        "freq.columns=[\"Frequency\"]\n",
        "money.columns=[\"Monetary\"]\n",
        "RFM"
      ]
    },
    {
      "cell_type": "code",
      "execution_count": null,
      "metadata": {
        "id": "ktm3cQ61FiZJ"
      },
      "outputs": [],
      "source": [
        "from sklearn.preprocessing import StandardScaler\n",
        "scaler=StandardScaler()\n",
        "scaled=scaler.fit_transform(RFM)\n"
      ]
    },
    {
      "cell_type": "code",
      "execution_count": null,
      "metadata": {
        "id": "Qd5hZe3JFiZJ",
        "outputId": "2075738d-4b48-4e5f-99a0-de74da72e9a3"
      },
      "outputs": [
        {
          "data": {
            "text/plain": [
              "[<matplotlib.lines.Line2D at 0x2a09ad77a00>]"
            ]
          },
          "execution_count": 124,
          "metadata": {},
          "output_type": "execute_result"
        },
        {
          "data": {
            "image/png": "[encoded data removed]",
            "text/plain": [
              "<Figure size 1200x800 with 1 Axes>"
            ]
          },
          "metadata": {},
          "output_type": "display_data"
        }
      ],
      "source": [
        "from sklearn.cluster import KMeans\n",
        "\n",
        "inertia=[]\n",
        "\n",
        "for i in np.arange(1,11):\n",
        "    kmeans=KMeans(n_clusters=i)\n",
        "    kmeans.fit(scaled)\n",
        "    inertia.append(kmeans.inertia_)\n",
        "\n",
        "\n",
        "plt.figure(figsize=(12,8))\n",
        "plt.plot(inertia, marker=\"o\")\n",
        "\n",
        "\n",
        "\n"
      ]
    },
    {
      "cell_type": "code",
      "execution_count": null,
      "metadata": {
        "id": "vvhvcdyhFiZK"
      },
      "outputs": [],
      "source": [
        "kmeans=KMeans(n_clusters=3)\n",
        "kmeans.fit(scaled)\n",
        "RFM[\"Clusters\"]=(kmeans.labels_+1)"
      ]
    },
    {
      "cell_type": "code",
      "execution_count": null,
      "metadata": {
        "id": "-aqhJSJHFiZK",
        "outputId": "f5076c9f-05ac-48ad-ce6e-eafa5be7794c"
      },
      "outputs": [
        {
          "data": {
            "text/html": [
              "<div>\n",
              "<style scoped>\n",
              "    .dataframe tbody tr th:only-of-type {\n",
              "        vertical-align: middle;\n",
              "    }\n",
              "\n",
              "    .dataframe tbody tr th {\n",
              "        vertical-align: top;\n",
              "    }\n",
              "\n",
              "    .dataframe thead th {\n",
              "        text-align: right;\n",
              "    }\n",
              "</style>\n",
              "<table border=\"1\" class=\"dataframe\">\n",
              "  <thead>\n",
              "    <tr style=\"text-align: right;\">\n",
              "      <th></th>\n",
              "      <th>Recency</th>\n",
              "      <th>Frequency</th>\n",
              "      <th>Monetary</th>\n",
              "      <th>Clusters</th>\n",
              "    </tr>\n",
              "    <tr>\n",
              "      <th>CustomerID</th>\n",
              "      <th></th>\n",
              "      <th></th>\n",
              "      <th></th>\n",
              "      <th></th>\n",
              "    </tr>\n",
              "  </thead>\n",
              "  <tbody>\n",
              "    <tr>\n",
              "      <th>12346.0</th>\n",
              "      <td>347</td>\n",
              "      <td>1</td>\n",
              "      <td>77183.60</td>\n",
              "      <td>1</td>\n",
              "    </tr>\n",
              "    <tr>\n",
              "      <th>12347.0</th>\n",
              "      <td>61</td>\n",
              "      <td>7</td>\n",
              "      <td>4310.00</td>\n",
              "      <td>3</td>\n",
              "    </tr>\n",
              "    <tr>\n",
              "      <th>12349.0</th>\n",
              "      <td>40</td>\n",
              "      <td>1</td>\n",
              "      <td>1757.55</td>\n",
              "      <td>3</td>\n",
              "    </tr>\n",
              "    <tr>\n",
              "      <th>12350.0</th>\n",
              "      <td>332</td>\n",
              "      <td>1</td>\n",
              "      <td>334.40</td>\n",
              "      <td>2</td>\n",
              "    </tr>\n",
              "    <tr>\n",
              "      <th>12352.0</th>\n",
              "      <td>94</td>\n",
              "      <td>8</td>\n",
              "      <td>2506.04</td>\n",
              "      <td>3</td>\n",
              "    </tr>\n",
              "    <tr>\n",
              "      <th>...</th>\n",
              "      <td>...</td>\n",
              "      <td>...</td>\n",
              "      <td>...</td>\n",
              "      <td>...</td>\n",
              "    </tr>\n",
              "    <tr>\n",
              "      <th>18280.0</th>\n",
              "      <td>181</td>\n",
              "      <td>1</td>\n",
              "      <td>180.60</td>\n",
              "      <td>2</td>\n",
              "    </tr>\n",
              "    <tr>\n",
              "      <th>18281.0</th>\n",
              "      <td>25</td>\n",
              "      <td>1</td>\n",
              "      <td>80.82</td>\n",
              "      <td>3</td>\n",
              "    </tr>\n",
              "    <tr>\n",
              "      <th>18282.0</th>\n",
              "      <td>237</td>\n",
              "      <td>2</td>\n",
              "      <td>178.05</td>\n",
              "      <td>2</td>\n",
              "    </tr>\n",
              "    <tr>\n",
              "      <th>18283.0</th>\n",
              "      <td>31</td>\n",
              "      <td>16</td>\n",
              "      <td>2094.88</td>\n",
              "      <td>3</td>\n",
              "    </tr>\n",
              "    <tr>\n",
              "      <th>18287.0</th>\n",
              "      <td>21</td>\n",
              "      <td>3</td>\n",
              "      <td>1837.28</td>\n",
              "      <td>3</td>\n",
              "    </tr>\n",
              "  </tbody>\n",
              "</table>\n",
              "<p>4297 rows × 4 columns</p>\n",
              "</div>"
            ],
            "text/plain": [
              "            Recency  Frequency  Monetary  Clusters\n",
              "CustomerID                                        \n",
              "12346.0         347          1  77183.60         1\n",
              "12347.0          61          7   4310.00         3\n",
              "12349.0          40          1   1757.55         3\n",
              "12350.0         332          1    334.40         2\n",
              "12352.0          94          8   2506.04         3\n",
              "...             ...        ...       ...       ...\n",
              "18280.0         181          1    180.60         2\n",
              "18281.0          25          1     80.82         3\n",
              "18282.0         237          2    178.05         2\n",
              "18283.0          31         16   2094.88         3\n",
              "18287.0          21          3   1837.28         3\n",
              "\n",
              "[4297 rows x 4 columns]"
            ]
          },
          "execution_count": 126,
          "metadata": {},
          "output_type": "execute_result"
        }
      ],
      "source": [
        "RFM"
      ]
    },
    {
      "cell_type": "code",
      "execution_count": null,
      "metadata": {
        "id": "ClDqFEsRFiZL",
        "outputId": "16a533bf-34b9-47ae-d102-96fda7bcce93"
      },
      "outputs": [
        {
          "name": "stderr",
          "output_type": "stream",
          "text": [
            "C:\\Users\\heyro\\AppData\\Local\\Temp\\ipykernel_7024\\4293404447.py:1: FutureWarning: Indexing with multiple keys (implicitly converted to a tuple of keys) will be deprecated, use a list instead.\n",
            "  final=RFM.groupby(\"Clusters\")[\"Recency\",\"Frequency\",\"Monetary\"].mean()\n"
          ]
        },
        {
          "data": {
            "text/html": [
              "<div>\n",
              "<style scoped>\n",
              "    .dataframe tbody tr th:only-of-type {\n",
              "        vertical-align: middle;\n",
              "    }\n",
              "\n",
              "    .dataframe tbody tr th {\n",
              "        vertical-align: top;\n",
              "    }\n",
              "\n",
              "    .dataframe thead th {\n",
              "        text-align: right;\n",
              "    }\n",
              "</style>\n",
              "<table border=\"1\" class=\"dataframe\">\n",
              "  <thead>\n",
              "    <tr style=\"text-align: right;\">\n",
              "      <th></th>\n",
              "      <th>Recency</th>\n",
              "      <th>Frequency</th>\n",
              "      <th>Monetary</th>\n",
              "    </tr>\n",
              "    <tr>\n",
              "      <th>Clusters</th>\n",
              "      <th></th>\n",
              "      <th></th>\n",
              "      <th></th>\n",
              "    </tr>\n",
              "  </thead>\n",
              "  <tbody>\n",
              "    <tr>\n",
              "      <th>1</th>\n",
              "      <td>48.760000</td>\n",
              "      <td>58.960000</td>\n",
              "      <td>81979.682000</td>\n",
              "    </tr>\n",
              "    <tr>\n",
              "      <th>2</th>\n",
              "      <td>281.745299</td>\n",
              "      <td>1.545299</td>\n",
              "      <td>495.484189</td>\n",
              "    </tr>\n",
              "    <tr>\n",
              "      <th>3</th>\n",
              "      <td>68.634429</td>\n",
              "      <td>4.797872</td>\n",
              "      <td>1913.384218</td>\n",
              "    </tr>\n",
              "  </tbody>\n",
              "</table>\n",
              "</div>"
            ],
            "text/plain": [
              "             Recency  Frequency      Monetary\n",
              "Clusters                                     \n",
              "1          48.760000  58.960000  81979.682000\n",
              "2         281.745299   1.545299    495.484189\n",
              "3          68.634429   4.797872   1913.384218"
            ]
          },
          "execution_count": 127,
          "metadata": {},
          "output_type": "execute_result"
        }
      ],
      "source": [
        "final=RFM.groupby(\"Clusters\")[\"Recency\",\"Frequency\",\"Monetary\"].mean()\n",
        "final"
      ]
    },
    {
      "cell_type": "code",
      "execution_count": null,
      "metadata": {
        "id": "C9w_DzI9FiZL"
      },
      "outputs": [],
      "source": [
        "def func(row):\n",
        "    if row[\"Clusters\"]==1:\n",
        "        return 'Whales'\n",
        "    elif row[\"Clusters\"]==2:\n",
        "        return 'Lapsed Cx'\n",
        "    else:\n",
        "        return 'Avg. Cx'"
      ]
    },
    {
      "cell_type": "code",
      "execution_count": null,
      "metadata": {
        "id": "snMWpGFTFiZM"
      },
      "outputs": [],
      "source": [
        "RFM['group']=RFM.apply(func, axis=1)"
      ]
    },
    {
      "cell_type": "code",
      "execution_count": null,
      "metadata": {
        "id": "FU9hVZ6xFiZM",
        "outputId": "7c3c19ec-9f2c-4f87-ec91-8405b83b65f6"
      },
      "outputs": [
        {
          "data": {
            "text/html": [
              "<div>\n",
              "<style scoped>\n",
              "    .dataframe tbody tr th:only-of-type {\n",
              "        vertical-align: middle;\n",
              "    }\n",
              "\n",
              "    .dataframe tbody tr th {\n",
              "        vertical-align: top;\n",
              "    }\n",
              "\n",
              "    .dataframe thead th {\n",
              "        text-align: right;\n",
              "    }\n",
              "</style>\n",
              "<table border=\"1\" class=\"dataframe\">\n",
              "  <thead>\n",
              "    <tr style=\"text-align: right;\">\n",
              "      <th></th>\n",
              "      <th>Recency</th>\n",
              "      <th>Frequency</th>\n",
              "      <th>Monetary</th>\n",
              "      <th>Clusters</th>\n",
              "      <th>group</th>\n",
              "    </tr>\n",
              "    <tr>\n",
              "      <th>CustomerID</th>\n",
              "      <th></th>\n",
              "      <th></th>\n",
              "      <th></th>\n",
              "      <th></th>\n",
              "      <th></th>\n",
              "    </tr>\n",
              "  </thead>\n",
              "  <tbody>\n",
              "    <tr>\n",
              "      <th>12346.0</th>\n",
              "      <td>347</td>\n",
              "      <td>1</td>\n",
              "      <td>77183.60</td>\n",
              "      <td>1</td>\n",
              "      <td>Whales</td>\n",
              "    </tr>\n",
              "    <tr>\n",
              "      <th>12347.0</th>\n",
              "      <td>61</td>\n",
              "      <td>7</td>\n",
              "      <td>4310.00</td>\n",
              "      <td>3</td>\n",
              "      <td>Avg. Cx</td>\n",
              "    </tr>\n",
              "    <tr>\n",
              "      <th>12349.0</th>\n",
              "      <td>40</td>\n",
              "      <td>1</td>\n",
              "      <td>1757.55</td>\n",
              "      <td>3</td>\n",
              "      <td>Avg. Cx</td>\n",
              "    </tr>\n",
              "    <tr>\n",
              "      <th>12350.0</th>\n",
              "      <td>332</td>\n",
              "      <td>1</td>\n",
              "      <td>334.40</td>\n",
              "      <td>2</td>\n",
              "      <td>Lapsed Cx</td>\n",
              "    </tr>\n",
              "    <tr>\n",
              "      <th>12352.0</th>\n",
              "      <td>94</td>\n",
              "      <td>8</td>\n",
              "      <td>2506.04</td>\n",
              "      <td>3</td>\n",
              "      <td>Avg. Cx</td>\n",
              "    </tr>\n",
              "    <tr>\n",
              "      <th>...</th>\n",
              "      <td>...</td>\n",
              "      <td>...</td>\n",
              "      <td>...</td>\n",
              "      <td>...</td>\n",
              "      <td>...</td>\n",
              "    </tr>\n",
              "    <tr>\n",
              "      <th>18280.0</th>\n",
              "      <td>181</td>\n",
              "      <td>1</td>\n",
              "      <td>180.60</td>\n",
              "      <td>2</td>\n",
              "      <td>Lapsed Cx</td>\n",
              "    </tr>\n",
              "    <tr>\n",
              "      <th>18281.0</th>\n",
              "      <td>25</td>\n",
              "      <td>1</td>\n",
              "      <td>80.82</td>\n",
              "      <td>3</td>\n",
              "      <td>Avg. Cx</td>\n",
              "    </tr>\n",
              "    <tr>\n",
              "      <th>18282.0</th>\n",
              "      <td>237</td>\n",
              "      <td>2</td>\n",
              "      <td>178.05</td>\n",
              "      <td>2</td>\n",
              "      <td>Lapsed Cx</td>\n",
              "    </tr>\n",
              "    <tr>\n",
              "      <th>18283.0</th>\n",
              "      <td>31</td>\n",
              "      <td>16</td>\n",
              "      <td>2094.88</td>\n",
              "      <td>3</td>\n",
              "      <td>Avg. Cx</td>\n",
              "    </tr>\n",
              "    <tr>\n",
              "      <th>18287.0</th>\n",
              "      <td>21</td>\n",
              "      <td>3</td>\n",
              "      <td>1837.28</td>\n",
              "      <td>3</td>\n",
              "      <td>Avg. Cx</td>\n",
              "    </tr>\n",
              "  </tbody>\n",
              "</table>\n",
              "<p>4297 rows × 5 columns</p>\n",
              "</div>"
            ],
            "text/plain": [
              "            Recency  Frequency  Monetary  Clusters      group\n",
              "CustomerID                                                   \n",
              "12346.0         347          1  77183.60         1     Whales\n",
              "12347.0          61          7   4310.00         3    Avg. Cx\n",
              "12349.0          40          1   1757.55         3    Avg. Cx\n",
              "12350.0         332          1    334.40         2  Lapsed Cx\n",
              "12352.0          94          8   2506.04         3    Avg. Cx\n",
              "...             ...        ...       ...       ...        ...\n",
              "18280.0         181          1    180.60         2  Lapsed Cx\n",
              "18281.0          25          1     80.82         3    Avg. Cx\n",
              "18282.0         237          2    178.05         2  Lapsed Cx\n",
              "18283.0          31         16   2094.88         3    Avg. Cx\n",
              "18287.0          21          3   1837.28         3    Avg. Cx\n",
              "\n",
              "[4297 rows x 5 columns]"
            ]
          },
          "execution_count": 134,
          "metadata": {},
          "output_type": "execute_result"
        }
      ],
      "source": [
        "RFM"
      ]
    },
    {
      "cell_type": "code",
      "execution_count": null,
      "metadata": {
        "id": "wryTtu2pFiZM"
      },
      "outputs": [],
      "source": [
        "result=RFM.group.value_counts()"
      ]
    },
    {
      "cell_type": "code",
      "execution_count": null,
      "metadata": {
        "id": "sYh1yfqjFiZN",
        "outputId": "ec6a2ab0-00a5-45b5-a9ca-510630415882"
      },
      "outputs": [
        {
          "data": {
            "text/plain": [
              "Avg. Cx      3102\n",
              "Lapsed Cx    1170\n",
              "Whales         25\n",
              "Name: group, dtype: int64"
            ]
          },
          "execution_count": 136,
          "metadata": {},
          "output_type": "execute_result"
        }
      ],
      "source": [
        "result"
      ]
    },
    {
      "cell_type": "code",
      "execution_count": null,
      "metadata": {
        "id": "JK1QmaaHFiZN",
        "outputId": "c2fc90c8-67b0-4db6-9f85-0416b465579b"
      },
      "outputs": [
        {
          "data": {
            "text/plain": [
              "<AxesSubplot: >"
            ]
          },
          "execution_count": 138,
          "metadata": {},
          "output_type": "execute_result"
        },
        {
          "data": {
            "image/png": "[encoded data removed]",
            "text/plain": [
              "<Figure size 640x480 with 1 Axes>"
            ]
          },
          "metadata": {},
          "output_type": "display_data"
        }
      ],
      "source": [
        "result.plot(kind=\"barh\", color=[\"Orange\",\"Red\",\"Green\"])"
      ]
    },
    {
      "cell_type": "code",
      "execution_count": null,
      "metadata": {
        "id": "YsuP_AuUFiZO"
      },
      "outputs": [],
      "source": []
    }
  ],
  "metadata": {
    "kernelspec": {
      "display_name": "base",
      "language": "python",
      "name": "python3"
    },
    "language_info": {
      "codemirror_mode": {
        "name": "ipython",
        "version": 3
      },
      "file_extension": ".py",
      "mimetype": "text/x-python",
      "name": "python",
      "nbconvert_exporter": "python",
      "pygments_lexer": "ipython3",
      "version": "3.9.13"
    },
    "orig_nbformat": 4,
    "vscode": {
      "interpreter": {
        "hash": "ad2bdc8ecc057115af97d19610ffacc2b4e99fae6737bb82f5d7fb13d2f2c186"
      }
    },
    "colab": {
      "provenance": [],
      "include_colab_link": true
    }
  },
  "nbformat": 4,
  "nbformat_minor": 0
}